{
 "cells": [
  {
   "cell_type": "code",
   "execution_count": null,
   "metadata": {},
   "outputs": [],
   "source": [
    "import pandas as pd\n",
    "\n",
    "df = pd.read_csv('../data/trajectories.csv')\n",
    "\n",
    "trayectories_df = pd.DataFrame(df)\n",
    "\n",
    "# Delecciona disinct dates\n",
    "dates = trayectories_df['date'].unique()\n",
    "\n",
    "dates_df = pd.DataFrame(dates, columns=['date'])\n",
    "\n",
    "import matplotlib.pyplot as plt\n",
    "\n",
    "plt.scatter(trayectories_df['longitude'], trayectories_df['latitude'], s=0.1)\n"
   ]
  },
  {
   "cell_type": "code",
   "execution_count": null,
   "metadata": {},
   "outputs": [],
   "source": [
    "\n",
    "# Selecciona netCDF de acuerdo a las fechas del dataframe\n",
    "import os\n",
    "import netCDF4 as nc\n",
    "import numpy as np\n",
    "import matplotlib.pyplot as plt\n",
    "\n",
    "def select_netCDf(date):\n",
    "    path = '../data/sst/2014/01'\n",
    "    # Cambia formato de yyyy-mm-dd a yyyymmdd\n",
    "    date = date.replace('-', '')\n",
    "    filename = f\"{path}/{date}120000-ESACCI-L4_GHRSST-SSTdepth-OSTIA-GLOB_CDR2.1-v02.0-fv01.0_clipped.nc\"\n",
    "    # Plot netCDF\n",
    "    nc_file = nc.Dataset(filename)\n",
    "    print(nc_file.variables.keys())\n",
    "    # Get lat and lon\n",
    "    lat = nc_file.variables['lat'][:]\n",
    "    lon = nc_file.variables['lon'][:]\n",
    "    # Get SST\n",
    "    sst = nc_file.variables['analysed_sst'][0][:,:]\n",
    "    sst = sst - 273.15\n",
    "    # Close netCDF\n",
    "    nc_file.close()\n",
    "    return lon, lat, sst\n"
   ]
  },
  {
   "cell_type": "code",
   "execution_count": null,
   "metadata": {},
   "outputs": [],
   "source": [
    "def plot_netCDF(date):\n",
    "    lon, lat, sst = select_netCDf(date)\n",
    "    # Plot netCDF\n",
    "    #plt.pcolor(lon, lat, sst)\n",
    "    #plt.title(f\"Sea Surface Temperature {date}\")\n",
    "\n",
    "fecha = dates_df['date'][3]  \n",
    "plot_netCDF(fecha)"
   ]
  },
  {
   "cell_type": "code",
   "execution_count": null,
   "metadata": {},
   "outputs": [],
   "source": [
    "import matplotlib.pyplot as plt\n",
    "\n",
    "# Grafica puntos de una fecha en particular\n",
    "def get_points(date):\n",
    "    points = trayectories_df[trayectories_df['date'] == date]\n",
    "    return points"
   ]
  },
  {
   "cell_type": "code",
   "execution_count": null,
   "metadata": {},
   "outputs": [],
   "source": [
    "import numpy as np\n",
    "# Obten temperaturas de netCDF a partir de coordenadas de puntos\n",
    "\n",
    "lon, lat, sst = select_netCDf(fecha)\n",
    "puntos = pd.DataFrame(get_points(fecha))\n",
    "\n",
    "# Plot netCDF\n",
    "plt.pcolor(lon, lat, sst, cmap='jet')\n",
    "plt.colorbar()\n",
    "plt.scatter(puntos['longitude'], puntos['latitude'], s=0.1, c='DarkBlue')\n",
    "# Zoom to points\n",
    "plt.xlim(puntos['longitude'].min(), puntos['longitude'].max())\n",
    "plt.ylim(puntos['latitude'].min(), puntos['latitude'].max())\n",
    "\n",
    "\n",
    "# Obtener temperatura de netCDF a partir de coordenadas de puntos\n",
    "def get_sst(longitude, latitude, sst, puntos):\n",
    "    id = []\n",
    "    sst_points = []\n",
    "    for i in range(len(puntos)):\n",
    "        # Obten coordenadas de punto\n",
    "        lon_point = puntos['longitude'].iloc[i]\n",
    "        lat_point = puntos['latitude'].iloc[i]\n",
    "        # Obten indice de coordenadas en netCDF\n",
    "        lon_index = (abs(longitude - lon_point)).argmin()\n",
    "        lat_index = (abs(latitude - lat_point)).argmin()\n",
    "        # Obten temperatura de netCDF\n",
    "        sst_point = sst[lat_index,lon_index]\n",
    "        sst_points.append(sst_point)\n",
    "    puntos['sst'] = sst_points\n",
    "    return puntos\n",
    "\n",
    "sst_onsite = get_sst(lon, lat, sst, puntos)\n",
    "sst_onsite"
   ]
  }
 ],
 "metadata": {
  "kernelspec": {
   "display_name": "Python 3",
   "language": "python",
   "name": "python3"
  },
  "language_info": {
   "codemirror_mode": {
    "name": "ipython",
    "version": 3
   },
   "file_extension": ".py",
   "mimetype": "text/x-python",
   "name": "python",
   "nbconvert_exporter": "python",
   "pygments_lexer": "ipython3",
   "version": "3.10.12"
  }
 },
 "nbformat": 4,
 "nbformat_minor": 2
}
