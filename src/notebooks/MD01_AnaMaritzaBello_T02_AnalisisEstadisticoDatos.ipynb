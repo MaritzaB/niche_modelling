{
 "cells": [
  {
   "cell_type": "markdown",
   "metadata": {},
   "source": [
    "Instituto Politécnico Nacional\n",
    "\n",
    "Centro de Investigación en Computación\n",
    "\n",
    "Minería de datos I\n",
    "\n",
    "Análisis exploratorio de datos de trayectorias de albatros de Laysan\n",
    "\n",
    "Presenta: Ana Maritza Bello\n",
    "\n",
    "---"
   ]
  },
  {
   "cell_type": "code",
   "execution_count": null,
   "metadata": {},
   "outputs": [],
   "source": [
    "import pandas as pd\n",
    "import seaborn as sns\n",
    "import matplotlib.pyplot as plt\n",
    "import warnings\n",
    "warnings.filterwarnings('ignore')"
   ]
  },
  {
   "cell_type": "markdown",
   "metadata": {},
   "source": [
    "# Visualización de datos crudos"
   ]
  },
  {
   "cell_type": "code",
   "execution_count": null,
   "metadata": {},
   "outputs": [],
   "source": [
    "trajectories = pd.read_csv('../data/trajectories.csv')\n",
    "trajectories.head()"
   ]
  },
  {
   "cell_type": "markdown",
   "metadata": {},
   "source": [
    "# Tipos de datos en el dataset\n",
    "Se tiene un total de 176767 puntos de ocurrencias de 47 aves marinas obtenidos\n",
    "con GPS. Los datos son del año 2014 a 2018. Las variables con las que se cuentan\n",
    "son la fecha de la ocurrencia, las coordenadas de latitud y longitud, el nombre\n",
    "del individuo, la temporada reproductiva de la especie, la distancia de la\n",
    "ocurrencia a la zona de anidamiento más cercana (Isla Guadalupe) y el valor de\n",
    "la temperatura superficial del mar en el punto de ocurrencia.\n",
    "\n",
    "Los datos de tipo object son cadenas de caracteres. La columna date es de tipo\n",
    "datetime64[ns] y las demás son de tipo float64.\n"
   ]
  },
  {
   "cell_type": "code",
   "execution_count": null,
   "metadata": {},
   "outputs": [],
   "source": [
    "trajectories[\"date\"] = trajectories[\"date\"].astype(\"datetime64[ns]\")\n",
    "trajectories.info()"
   ]
  },
  {
   "cell_type": "markdown",
   "metadata": {},
   "source": [
    "# Cantidad de valores únicos en cada variable del dataset\n",
    "\n",
    "Se tiene un total de 346 fechas registradas, 47 individuos, 4 temporadas\n",
    "reproductivas y 5 años de registro. Las variables de latitud, longitud,\n",
    "distancia y temperatura superficial del mar son medidas muy variadas, por esto\n",
    "su cantidad de valores únicos es muy alta."
   ]
  },
  {
   "cell_type": "code",
   "execution_count": null,
   "metadata": {},
   "outputs": [],
   "source": [
    "trajectories.nunique()"
   ]
  },
  {
   "cell_type": "markdown",
   "metadata": {},
   "source": [
    "# Gráfica de la cantidad de datos disponibles por año y por mes\n",
    "\n",
    "Saber la cantidad de puntos que se tienen por mes y por año es importante para\n",
    "saber si se tienen suficientes datos para hacer un análisis por mes o por año.\n",
    "En este caso, la cantidad de datos por mes es muy variable, por lo que si se\n",
    "desea hacer un análisis de datos por mes, solo se tendría información disponible\n",
    "de los primeros 3 o 4 meses dependiendo del año."
   ]
  },
  {
   "cell_type": "code",
   "execution_count": null,
   "metadata": {},
   "outputs": [],
   "source": [
    "trajectories[\"day\"] = trajectories[\"date\"].dt.day\n",
    "trajectories[\"month\"] = trajectories[\"date\"].dt.month\n",
    "trajectories[\"year\"] = trajectories[\"date\"].dt.year\n",
    "data_by_year = trajectories.groupby([\"year\", \"month\"]).size()\n",
    "data_by_year.plot(kind=\"bar\", figsize=(10, 5), \n",
    "                  title=\"Numero de datos por mes y año\", \n",
    "                  xlabel=\"Año, mes\", ylabel=\"Cantidad de datos\")"
   ]
  },
  {
   "cell_type": "code",
   "execution_count": null,
   "metadata": {},
   "outputs": [],
   "source": [
    "data_by_month = trajectories.groupby([\"month\"]).size()\n",
    "data_by_month.plot(kind=\"bar\", figsize=(10, 5), \n",
    "                  title=\"Numero de datos por mes (todos los años)\", \n",
    "                  xlabel=\"Mes\", ylabel=\"Cantidad de datos\",)"
   ]
  },
  {
   "cell_type": "code",
   "execution_count": null,
   "metadata": {},
   "outputs": [],
   "source": [
    "plt.figure(figsize=(10, 5))\n",
    "sns.countplot(data=trajectories, x=\"season\", palette=\"Set1\")\n",
    "plt.title(\"Cantidad de datos disponibles por temporada reproductiva de todos los años\")\n",
    "plt.xlabel(\"Temporada reproductiva\")\n",
    "plt.ylabel(\"Cantidad de datos\")"
   ]
  },
  {
   "cell_type": "code",
   "execution_count": null,
   "metadata": {},
   "outputs": [],
   "source": [
    "plt.figure(figsize=(10, 5))\n",
    "sns.countplot(data=trajectories, x=\"season\", hue=\"year\", palette=\"Set2\",)\n",
    "plt.title(\"Cantidad de datos disponibles por temporada reproductiva y año\")\n",
    "plt.xlabel(\"Temporada reproductiva\")\n",
    "plt.ylabel(\"Cantidad de datos\")"
   ]
  },
  {
   "cell_type": "code",
   "execution_count": null,
   "metadata": {},
   "outputs": [],
   "source": [
    "sst_eda = trajectories[\"sst\"].groupby(trajectories[\"month\"])\n",
    "sst_eda.describe()"
   ]
  },
  {
   "cell_type": "markdown",
   "metadata": {},
   "source": [
    "# Gráficas del valor de la temperatura superficial del mar.\n",
    "\n",
    "Estas gráficas muestran la distribución de los valores de la temperatura del mar\n",
    "en los puntos de ocurrencia de las aves. Se puede observar que la preferencia de\n",
    "estas aves es por temperaturas que vand desde los 5 grados centígrados\n",
    "aproximadamente hasta los 25 grados centígrados."
   ]
  },
  {
   "cell_type": "code",
   "execution_count": null,
   "metadata": {},
   "outputs": [],
   "source": [
    "# Plot EDA for SST (Min, mean, max)\n",
    "\n",
    "plt.figure(figsize=(10, 5))\n",
    "plt.title(\"Temperatura superficial del mar (SST) de los puntos de las trayectorias por mes\")\n",
    "sst_eda.mean().plot(label=\"Mean\", color=\"green\", linewidth=2, marker=\"o\")\n",
    "sst_eda.min().plot(label=\"Min\", color=\"blue\", linewidth=2, marker=\"o\")\n",
    "sst_eda.max().plot(label=\"Max\", color='red', linewidth=2, marker=\"o\")\n",
    "plt.legend()\n",
    "plt.xlabel(\"Mes\")\n",
    "plt.ylabel(\"SST (°C)\")\n"
   ]
  },
  {
   "cell_type": "code",
   "execution_count": null,
   "metadata": {},
   "outputs": [],
   "source": [
    "# Boxplots for SST by month\n",
    "\n",
    "plt.figure(figsize=(12, 5))\n",
    "plt.title(\"Temperatura superficial del mar (SST) de los puntos de las trayectorias por mes\")\n",
    "sns.boxplot(data=trajectories, x=\"month\", y=\"sst\", palette=\"Set2\")\n",
    "plt.xlabel(\"Mes\")\n",
    "plt.ylabel(\"SST (°C)\")\n"
   ]
  },
  {
   "cell_type": "markdown",
   "metadata": {},
   "source": [
    "# Distancia de los puntos de ocurrencia a la zona de anidamiento más cercana"
   ]
  },
  {
   "cell_type": "code",
   "execution_count": null,
   "metadata": {},
   "outputs": [],
   "source": [
    "distance_eda = trajectories[\"spheroid_dist_to_colony\"].groupby(trajectories[\"month\"])\n",
    "distance_eda.describe()"
   ]
  },
  {
   "cell_type": "code",
   "execution_count": null,
   "metadata": {},
   "outputs": [],
   "source": [
    "# Gráfica de la distancia a la colonia por mes (Min, mean, max)\n",
    "\n",
    "plt.figure(figsize=(10, 5))\n",
    "plt.title(\"Distancia máxima a la colonia por mes\")\n",
    "distance_eda.max().plot(label=\"Max\")\n",
    "plt.legend()\n",
    "plt.xlabel(\"Mes\")\n",
    "plt.ylabel(\"Distancia (km)\")\n"
   ]
  },
  {
   "cell_type": "markdown",
   "metadata": {},
   "source": [
    "# Análisis exploratorio de datos de los valores de la longitud de las ocurrencias por temporada reproductiva\n",
    "\n",
    "Este análisis nos siver para saber que tanto varía el área de distribución de\n",
    "las aves por temporada reproductiva. Así, podemos saber la preferencia de\n",
    "dispersión en longitud de las aves por temporada reproductiva."
   ]
  },
  {
   "cell_type": "code",
   "execution_count": null,
   "metadata": {},
   "outputs": [],
   "source": [
    "latitude_bp = trajectories[\"longitude\"].groupby(trajectories[\"season\"])\n",
    "latitude_bp.describe()"
   ]
  },
  {
   "cell_type": "markdown",
   "metadata": {},
   "source": [
    "# Análisis exploratorio de datos de los valores de la latitud de las ocurrencias por temporada reproductiva\n",
    "\n",
    "Este análisis nos siver para saber que tanto varía el área de distribución de las aves por temporada reproductiva. Así, podemos saber la preferencia de dispersión en latitud de las aves por temporada reproductiva."
   ]
  },
  {
   "cell_type": "code",
   "execution_count": null,
   "metadata": {},
   "outputs": [],
   "source": [
    "latitude_bp = trajectories[\"latitude\"].groupby(trajectories[\"season\"])\n",
    "latitude_bp.describe()"
   ]
  },
  {
   "cell_type": "markdown",
   "metadata": {},
   "source": [
    "# Dispersión de los puntos de ocurrencia por temporada reproductiva\n",
    "\n",
    "La dispersión de los puntos de ocurrencia por temporada reproductiva en el\n",
    "espacio geográfico nos permite saber si las aves se distribuyen de manera\n",
    "similar en las diferentes temporadas reproductivas. También nos permite\n",
    "determinar zonas con mayor densidad de ocurrencias, esto es útil para\n",
    "identificar áreas de importancia para las aves."
   ]
  },
  {
   "cell_type": "code",
   "execution_count": null,
   "metadata": {},
   "outputs": [],
   "source": [
    "sns.scatterplot(data = trajectories, x=\"longitude\", y=\"latitude\", hue=\"season\", alpha=0.5, s=10)"
   ]
  },
  {
   "cell_type": "markdown",
   "metadata": {},
   "source": [
    "# Distribución geográfica durante la incubación"
   ]
  },
  {
   "cell_type": "code",
   "execution_count": null,
   "metadata": {},
   "outputs": [],
   "source": [
    "sns.boxplot(data = trajectories[(trajectories[\"season\"]==\"incubacion\") & (trajectories[\"year\"]==2014)], x=\"longitude\")\n",
    "plt.title(\"Boxplot de la longitud en la temporada de incubacion del año 2014\")\n"
   ]
  },
  {
   "cell_type": "code",
   "execution_count": null,
   "metadata": {},
   "outputs": [],
   "source": [
    "sns.boxplot(data = trajectories[(trajectories[\"season\"]==\"incubacion\") & (trajectories[\"year\"]==2015)], x=\"longitude\")\n",
    "plt.title(\"Boxplot de la longitud en la temporada de incubacion del año 2015\")"
   ]
  },
  {
   "cell_type": "code",
   "execution_count": null,
   "metadata": {},
   "outputs": [],
   "source": [
    "sns.histplot(data = trajectories[(trajectories[\"season\"]==\"incubacion\") & (trajectories[\"year\"]==2014)],\n",
    "             x=\"longitude\", binwidth=0.5, kde=True, color=\"red\", alpha=0.3)\n",
    "plt.title(\"Histograma de la longitud en la temporada de incubacion del año 2014\")"
   ]
  },
  {
   "cell_type": "code",
   "execution_count": null,
   "metadata": {},
   "outputs": [],
   "source": [
    "sns.boxplot(data = trajectories[(trajectories[\"season\"]==\"incubacion\") & (trajectories[\"year\"]==2014)], x=\"latitude\")\n",
    "plt.title(\"Boxplot de la latitud en la temporada de incubacion del año 2014\")"
   ]
  },
  {
   "cell_type": "code",
   "execution_count": null,
   "metadata": {},
   "outputs": [],
   "source": [
    "sns.boxplot(data = trajectories[(trajectories[\"season\"]==\"incubacion\") & (trajectories[\"year\"]==2015)], x=\"latitude\")\n",
    "plt.title(\"Boxplot de la latitud en la temporada de incubacion del año 2015\")"
   ]
  },
  {
   "cell_type": "code",
   "execution_count": null,
   "metadata": {},
   "outputs": [],
   "source": [
    "sns.histplot(data = trajectories[(trajectories[\"season\"]==\"incubacion\") & (trajectories[\"year\"]==2014)],\n",
    "             x=\"latitude\", binwidth=0.5, kde=True, color=\"green\", alpha=0.2)\n",
    "plt.title(\"Histograma de la latitud en la temporada de incubacion\")"
   ]
  },
  {
   "cell_type": "markdown",
   "metadata": {},
   "source": [
    "# Distribución geográfica durante la crianza"
   ]
  },
  {
   "cell_type": "code",
   "execution_count": null,
   "metadata": {},
   "outputs": [],
   "source": [
    "sns.boxplot(data = trajectories[trajectories[\"season\"]==\"crianza\"], x=\"longitude\")\n",
    "plt.title(\"Boxplot de la longitud en la temporada de crianza\")"
   ]
  },
  {
   "cell_type": "code",
   "execution_count": null,
   "metadata": {},
   "outputs": [],
   "source": [
    "sns.histplot(data = trajectories[trajectories[\"season\"]==\"crianza\"],\n",
    "             x=\"longitude\", binwidth=0.5, kde=True, color=\"red\", alpha=0.3)\n",
    "plt.title(\"Histograma de la longitud en la temporada de crianza\")"
   ]
  },
  {
   "cell_type": "code",
   "execution_count": null,
   "metadata": {},
   "outputs": [],
   "source": [
    "sns.boxplot(data = trajectories[trajectories[\"season\"]==\"crianza\"], x=\"latitude\")\n",
    "plt.title(\"Boxplot de la latitud en la temporada de crianza\")"
   ]
  },
  {
   "cell_type": "code",
   "execution_count": null,
   "metadata": {},
   "outputs": [],
   "source": [
    "sns.histplot(data = trajectories[trajectories[\"season\"]==\"crianza\"],\n",
    "             x=\"latitude\", binwidth=0.5, kde=True, color=\"green\", alpha=0.3)\n",
    "plt.title(\"Histograma de la latitud en la temporada de crianza\")"
   ]
  },
  {
   "cell_type": "markdown",
   "metadata": {},
   "source": [
    "# Correlación entre las variables\n",
    "\n",
    "La correlación entre las variables nos permite saber si existe una relación\n",
    "entre ellas. El signo de la correlación nos indica si la relación es directa o\n",
    "inversa. El valor de la correlación nos indica que tan fuerte es la relación que \n",
    "existe entre las variables."
   ]
  },
  {
   "cell_type": "code",
   "execution_count": null,
   "metadata": {},
   "outputs": [],
   "source": [
    "data_trajectories = trajectories[[\"longitude\", \"latitude\", \"sst\", \"spheroid_dist_to_colony\", \"year\", \"month\"]]\n",
    "sns.heatmap(data_trajectories.corr(), annot=True, cmap=\"viridis\")"
   ]
  },
  {
   "cell_type": "markdown",
   "metadata": {},
   "source": [
    "# Pairplot de las variables\n",
    "\n",
    "El pairplot nos permite ver la relación entre las variables de dos en dos."
   ]
  },
  {
   "cell_type": "code",
   "execution_count": null,
   "metadata": {},
   "outputs": [],
   "source": [
    "sns.pairplot(data_trajectories, hue=\"year\", palette=\"Set2\")"
   ]
  }
 ],
 "metadata": {
  "kernelspec": {
   "display_name": "Python 3 (ipykernel)",
   "language": "python",
   "name": "python3"
  },
  "language_info": {
   "codemirror_mode": {
    "name": "ipython",
    "version": 3
   },
   "file_extension": ".py",
   "mimetype": "text/x-python",
   "name": "python",
   "nbconvert_exporter": "python",
   "pygments_lexer": "ipython3",
   "version": "3.10.12"
  },
  "orig_nbformat": 4
 },
 "nbformat": 4,
 "nbformat_minor": 2
}
