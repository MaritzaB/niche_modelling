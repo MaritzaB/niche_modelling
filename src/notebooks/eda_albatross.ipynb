{
 "cells": [
  {
   "cell_type": "markdown",
   "metadata": {},
   "source": [
    "# Análisis exploratorio de datos de trayectorias de albatros de Laysan\n",
    "\n",
    "Minería de datos\n",
    "\n",
    "Presenta: Ana Maritza Bello Yañez"
   ]
  },
  {
   "cell_type": "code",
   "execution_count": null,
   "metadata": {},
   "outputs": [],
   "source": [
    "import pandas as pd\n",
    "import seaborn as sns\n",
    "import matplotlib.pyplot as plt\n",
    "import warnings\n",
    "warnings.filterwarnings('ignore')"
   ]
  },
  {
   "cell_type": "code",
   "execution_count": null,
   "metadata": {},
   "outputs": [],
   "source": [
    "trajectories = pd.read_csv('../data/trajectories.csv')\n",
    "trajectories.head()"
   ]
  },
  {
   "cell_type": "code",
   "execution_count": null,
   "metadata": {},
   "outputs": [],
   "source": [
    "trajectories[\"date\"] = trajectories[\"date\"].astype(\"datetime64[ns]\")\n",
    "trajectories.info()"
   ]
  },
  {
   "cell_type": "code",
   "execution_count": null,
   "metadata": {},
   "outputs": [],
   "source": [
    "trajectories.nunique()"
   ]
  },
  {
   "cell_type": "code",
   "execution_count": null,
   "metadata": {},
   "outputs": [],
   "source": [
    "trajectories[\"day\"] = trajectories[\"date\"].dt.day\n",
    "trajectories[\"month\"] = trajectories[\"date\"].dt.month\n",
    "trajectories[\"year\"] = trajectories[\"date\"].dt.year\n",
    "data_by_year = trajectories.groupby([\"year\", \"month\"]).size()\n",
    "data_by_year.plot(kind=\"bar\", figsize=(8, 5), \n",
    "                  title=\"Numero de datos por mes y año\", \n",
    "                  xlabel=\"Año, mes\", ylabel=\"Cantidad de datos\")"
   ]
  },
  {
   "cell_type": "code",
   "execution_count": null,
   "metadata": {},
   "outputs": [],
   "source": [
    "data_by_month = trajectories.groupby([\"month\"]).size()\n",
    "data_by_month.plot(kind=\"bar\", figsize=(8, 5), \n",
    "                  title=\"Numero de datos por mes (todos los años)\", \n",
    "                  xlabel=\"Mes\", ylabel=\"Cantidad de datos\")"
   ]
  },
  {
   "cell_type": "code",
   "execution_count": null,
   "metadata": {},
   "outputs": [],
   "source": [
    "sns.countplot(data=trajectories, x=\"season\", hue=\"year\", palette=\"Set2\")"
   ]
  },
  {
   "cell_type": "code",
   "execution_count": null,
   "metadata": {},
   "outputs": [],
   "source": [
    "latitude_bp = trajectories[\"longitude\"].groupby(trajectories[\"season\"])\n",
    "latitude_bp.describe()"
   ]
  },
  {
   "cell_type": "code",
   "execution_count": null,
   "metadata": {},
   "outputs": [],
   "source": [
    "latitude_bp = trajectories[\"latitude\"].groupby(trajectories[\"season\"])\n",
    "latitude_bp.describe()"
   ]
  },
  {
   "cell_type": "code",
   "execution_count": null,
   "metadata": {},
   "outputs": [],
   "source": [
    "sns.scatterplot(data = trajectories, x=\"longitude\", y=\"latitude\", hue=\"season\", alpha=0.5, s=10)"
   ]
  },
  {
   "cell_type": "markdown",
   "metadata": {},
   "source": [
    "# Distribución geográfica durante la incubación"
   ]
  },
  {
   "cell_type": "code",
   "execution_count": null,
   "metadata": {},
   "outputs": [],
   "source": [
    "sns.boxplot(data = trajectories[(trajectories[\"season\"]==\"incubacion\") & (trajectories[\"year\"]==2014)], x=\"longitude\")\n",
    "plt.title(\"Boxplot de la longitud en la temporada de incubacion del año 2014\")"
   ]
  },
  {
   "cell_type": "code",
   "execution_count": null,
   "metadata": {},
   "outputs": [],
   "source": [
    "sns.boxplot(data = trajectories[(trajectories[\"season\"]==\"incubacion\") & (trajectories[\"year\"]==2015)], x=\"longitude\")\n",
    "plt.title(\"Boxplot de la longitud en la temporada de incubacion del año 2015\")"
   ]
  },
  {
   "cell_type": "code",
   "execution_count": null,
   "metadata": {},
   "outputs": [],
   "source": [
    "sns.histplot(data = trajectories[(trajectories[\"season\"]==\"incubacion\") & (trajectories[\"year\"]==2014)],\n",
    "             x=\"longitude\", binwidth=0.5, kde=True, color=\"red\", alpha=0.3)\n",
    "plt.title(\"Histograma de la longitud en la temporada de incubacion del año 2014\")"
   ]
  },
  {
   "cell_type": "code",
   "execution_count": null,
   "metadata": {},
   "outputs": [],
   "source": [
    "sns.boxplot(data = trajectories[(trajectories[\"season\"]==\"incubacion\") & (trajectories[\"year\"]==2014)], x=\"latitude\")\n",
    "plt.title(\"Boxplot de la latitud en la temporada de incubacion del año 2014\")"
   ]
  },
  {
   "cell_type": "code",
   "execution_count": null,
   "metadata": {},
   "outputs": [],
   "source": [
    "sns.boxplot(data = trajectories[(trajectories[\"season\"]==\"incubacion\") & (trajectories[\"year\"]==2015)], x=\"latitude\")\n",
    "plt.title(\"Boxplot de la latitud en la temporada de incubacion del año 2015\")"
   ]
  },
  {
   "cell_type": "code",
   "execution_count": null,
   "metadata": {},
   "outputs": [],
   "source": [
    "sns.histplot(data = trajectories[(trajectories[\"season\"]==\"incubacion\") & (trajectories[\"year\"]==2014)],\n",
    "             x=\"latitude\", binwidth=0.5, kde=True, color=\"green\", alpha=0.2)\n",
    "plt.title(\"Histograma de la latitud en la temporada de incubacion\")"
   ]
  },
  {
   "cell_type": "markdown",
   "metadata": {},
   "source": [
    "# Distribución geográfica durante la crianza"
   ]
  },
  {
   "cell_type": "code",
   "execution_count": null,
   "metadata": {},
   "outputs": [],
   "source": [
    "sns.boxplot(data = trajectories[trajectories[\"season\"]==\"crianza\"], x=\"longitude\")\n",
    "plt.title(\"Boxplot de la longitud en la temporada de crianza\")"
   ]
  },
  {
   "cell_type": "code",
   "execution_count": null,
   "metadata": {},
   "outputs": [],
   "source": [
    "sns.histplot(data = trajectories[trajectories[\"season\"]==\"crianza\"],\n",
    "             x=\"longitude\", binwidth=0.5, kde=True, color=\"red\", alpha=0.3)\n",
    "plt.title(\"Histograma de la longitud en la temporada de crianza\")"
   ]
  },
  {
   "cell_type": "code",
   "execution_count": null,
   "metadata": {},
   "outputs": [],
   "source": [
    "sns.boxplot(data = trajectories[trajectories[\"season\"]==\"crianza\"], x=\"latitude\")\n",
    "plt.title(\"Boxplot de la latitud en la temporada de crianza\")"
   ]
  },
  {
   "cell_type": "code",
   "execution_count": null,
   "metadata": {},
   "outputs": [],
   "source": [
    "sns.histplot(data = trajectories[trajectories[\"season\"]==\"crianza\"],\n",
    "             x=\"latitude\", binwidth=0.5, kde=True, color=\"green\", alpha=0.3)\n",
    "plt.title(\"Histograma de la latitud en la temporada de crianza\")"
   ]
  }
 ],
 "metadata": {
  "kernelspec": {
   "display_name": "Python 3",
   "language": "python",
   "name": "python3"
  },
  "language_info": {
   "codemirror_mode": {
    "name": "ipython",
    "version": 3
   },
   "file_extension": ".py",
   "mimetype": "text/x-python",
   "name": "python",
   "nbconvert_exporter": "python",
   "pygments_lexer": "ipython3",
   "version": "3.10.12"
  },
  "orig_nbformat": 4
 },
 "nbformat": 4,
 "nbformat_minor": 2
}
