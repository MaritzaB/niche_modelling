{
 "cells": [
  {
   "cell_type": "code",
   "execution_count": 1,
   "metadata": {},
   "outputs": [],
   "source": [
    "from netCDF4 import Dataset\n",
    "import matplotlib.pyplot as plt\n",
    "import numpy as np\n",
    "import pandas as pd\n",
    "import glob"
   ]
  },
  {
   "cell_type": "code",
   "execution_count": 2,
   "metadata": {},
   "outputs": [
    {
     "ename": "FileNotFoundError",
     "evalue": "[Errno 2] No such file or directory: '../data/sst/2014/20140101120000-ESACCI-L4_GHRSST-SSTdepth-OSTIA-GLOB_CDR2.1-v02.0-fv01.0.nc'",
     "output_type": "error",
     "traceback": [
      "\u001b[0;31m---------------------------------------------------------------------------\u001b[0m",
      "\u001b[0;31mFileNotFoundError\u001b[0m                         Traceback (most recent call last)",
      "\u001b[1;32m/workspaces/niche_modelling/src/notebooks/eda_sst.ipynb Cell 2\u001b[0m line \u001b[0;36m2\n\u001b[1;32m      <a href='vscode-notebook-cell://dev-container%2B7b22686f737450617468223a222f686f6d652f6369632f446f63756d656e74732f4769744875622f6e696368655f6d6f64656c6c696e67222c226c6f63616c446f636b6572223a66616c73652c22636f6e66696746696c65223a7b22246d6964223a312c22667350617468223a222f686f6d652f6369632f446f63756d656e74732f4769744875622f6e696368655f6d6f64656c6c696e672f2e646576636f6e7461696e65722f646576636f6e7461696e65722e6a736f6e222c2265787465726e616c223a2266696c653a2f2f2f686f6d652f6369632f446f63756d656e74732f4769744875622f6e696368655f6d6f64656c6c696e672f2e646576636f6e7461696e65722f646576636f6e7461696e65722e6a736f6e222c2270617468223a222f686f6d652f6369632f446f63756d656e74732f4769744875622f6e696368655f6d6f64656c6c696e672f2e646576636f6e7461696e65722f646576636f6e7461696e65722e6a736f6e222c22736368656d65223a2266696c65227d7d/workspaces/niche_modelling/src/notebooks/eda_sst.ipynb#W1sdnNjb2RlLXJlbW90ZQ%3D%3D?line=0'>1</a>\u001b[0m filename \u001b[39m=\u001b[39m \u001b[39m'\u001b[39m\u001b[39m../data/sst/2014/20140101120000-ESACCI-L4_GHRSST-SSTdepth-OSTIA-GLOB_CDR2.1-v02.0-fv01.0.nc\u001b[39m\u001b[39m'\u001b[39m\n\u001b[0;32m----> <a href='vscode-notebook-cell://dev-container%2B7b22686f737450617468223a222f686f6d652f6369632f446f63756d656e74732f4769744875622f6e696368655f6d6f64656c6c696e67222c226c6f63616c446f636b6572223a66616c73652c22636f6e66696746696c65223a7b22246d6964223a312c22667350617468223a222f686f6d652f6369632f446f63756d656e74732f4769744875622f6e696368655f6d6f64656c6c696e672f2e646576636f6e7461696e65722f646576636f6e7461696e65722e6a736f6e222c2265787465726e616c223a2266696c653a2f2f2f686f6d652f6369632f446f63756d656e74732f4769744875622f6e696368655f6d6f64656c6c696e672f2e646576636f6e7461696e65722f646576636f6e7461696e65722e6a736f6e222c2270617468223a222f686f6d652f6369632f446f63756d656e74732f4769744875622f6e696368655f6d6f64656c6c696e672f2e646576636f6e7461696e65722f646576636f6e7461696e65722e6a736f6e222c22736368656d65223a2266696c65227d7d/workspaces/niche_modelling/src/notebooks/eda_sst.ipynb#W1sdnNjb2RlLXJlbW90ZQ%3D%3D?line=1'>2</a>\u001b[0m data \u001b[39m=\u001b[39m Dataset(filename, \u001b[39m'\u001b[39;49m\u001b[39mr\u001b[39;49m\u001b[39m'\u001b[39;49m)\n\u001b[1;32m      <a href='vscode-notebook-cell://dev-container%2B7b22686f737450617468223a222f686f6d652f6369632f446f63756d656e74732f4769744875622f6e696368655f6d6f64656c6c696e67222c226c6f63616c446f636b6572223a66616c73652c22636f6e66696746696c65223a7b22246d6964223a312c22667350617468223a222f686f6d652f6369632f446f63756d656e74732f4769744875622f6e696368655f6d6f64656c6c696e672f2e646576636f6e7461696e65722f646576636f6e7461696e65722e6a736f6e222c2265787465726e616c223a2266696c653a2f2f2f686f6d652f6369632f446f63756d656e74732f4769744875622f6e696368655f6d6f64656c6c696e672f2e646576636f6e7461696e65722f646576636f6e7461696e65722e6a736f6e222c2270617468223a222f686f6d652f6369632f446f63756d656e74732f4769744875622f6e696368655f6d6f64656c6c696e672f2e646576636f6e7461696e65722f646576636f6e7461696e65722e6a736f6e222c22736368656d65223a2266696c65227d7d/workspaces/niche_modelling/src/notebooks/eda_sst.ipynb#W1sdnNjb2RlLXJlbW90ZQ%3D%3D?line=2'>3</a>\u001b[0m \u001b[39mprint\u001b[39m(data\u001b[39m.\u001b[39mvariables\u001b[39m.\u001b[39mkeys())\n\u001b[1;32m      <a href='vscode-notebook-cell://dev-container%2B7b22686f737450617468223a222f686f6d652f6369632f446f63756d656e74732f4769744875622f6e696368655f6d6f64656c6c696e67222c226c6f63616c446f636b6572223a66616c73652c22636f6e66696746696c65223a7b22246d6964223a312c22667350617468223a222f686f6d652f6369632f446f63756d656e74732f4769744875622f6e696368655f6d6f64656c6c696e672f2e646576636f6e7461696e65722f646576636f6e7461696e65722e6a736f6e222c2265787465726e616c223a2266696c653a2f2f2f686f6d652f6369632f446f63756d656e74732f4769744875622f6e696368655f6d6f64656c6c696e672f2e646576636f6e7461696e65722f646576636f6e7461696e65722e6a736f6e222c2270617468223a222f686f6d652f6369632f446f63756d656e74732f4769744875622f6e696368655f6d6f64656c6c696e672f2e646576636f6e7461696e65722f646576636f6e7461696e65722e6a736f6e222c22736368656d65223a2266696c65227d7d/workspaces/niche_modelling/src/notebooks/eda_sst.ipynb#W1sdnNjb2RlLXJlbW90ZQ%3D%3D?line=3'>4</a>\u001b[0m \u001b[39mprint\u001b[39m(data\u001b[39m.\u001b[39mvariables[\u001b[39m'\u001b[39m\u001b[39manalysed_sst\u001b[39m\u001b[39m'\u001b[39m]\u001b[39m.\u001b[39munits)\n",
      "File \u001b[0;32msrc/netCDF4/_netCDF4.pyx:2464\u001b[0m, in \u001b[0;36mnetCDF4._netCDF4.Dataset.__init__\u001b[0;34m()\u001b[0m\n",
      "File \u001b[0;32msrc/netCDF4/_netCDF4.pyx:2027\u001b[0m, in \u001b[0;36mnetCDF4._netCDF4._ensure_nc_success\u001b[0;34m()\u001b[0m\n",
      "\u001b[0;31mFileNotFoundError\u001b[0m: [Errno 2] No such file or directory: '../data/sst/2014/20140101120000-ESACCI-L4_GHRSST-SSTdepth-OSTIA-GLOB_CDR2.1-v02.0-fv01.0.nc'"
     ]
    }
   ],
   "source": [
    "filename = '../data/sst/2014/20140101120000-ESACCI-L4_GHRSST-SSTdepth-OSTIA-GLOB_CDR2.1-v02.0-fv01.0.nc'\n",
    "data = Dataset(filename, 'r')\n",
    "print(data.variables.keys())\n",
    "print(data.variables['analysed_sst'].units)\n",
    "print(data.variables['lat'].units)\n",
    "print(data.variables['lon'].units)\n",
    "print(data.variables['time'])"
   ]
  },
  {
   "cell_type": "code",
   "execution_count": null,
   "metadata": {},
   "outputs": [],
   "source": [
    "sst = data.variables['analysed_sst'][0][:]\n",
    "lat = data.variables['lat'][:]\n",
    "lon = data.variables['lon'][:]\n",
    "time = data.variables['time'][:]\n",
    "units_sst = data.variables['analysed_sst'].units\n",
    "units_lat = data.variables['lat'].units\n",
    "units_lon = data.variables['lon'].units\n",
    "\n",
    "#print(f\"Unidades de temperatura {units_sst}, \\n {units_lat}, {units_lon}\")\n",
    "#print(f\"Dimensiones de la matriz de temperatura {sst.shape}, \\n {lat.shape},\n",
    "#{lon.shape}\")\n",
    "\n",
    "plt.figure(figsize=(18, 10))\n",
    "plt.pcolormesh(lon, lat, sst, cmap='jet')\n",
    "plt.colorbar()\n",
    "plt.title('Sea Surface Temperature')\n",
    "plt.xlabel('Longitude')\n",
    "plt.ylabel('Latitude')\n",
    "plt.show()"
   ]
  },
  {
   "cell_type": "code",
   "execution_count": null,
   "metadata": {},
   "outputs": [],
   "source": [
    "min_lat = 25.933687\n",
    "max_lat = 51.25798\n",
    "min_lon = -158.980523\n",
    "max_lon = -114.42687\n",
    "latbound = [ min_lat, max_lat ]\n",
    "lonbound = [ min_lon, max_lon ]"
   ]
  },
  {
   "cell_type": "code",
   "execution_count": null,
   "metadata": {},
   "outputs": [],
   "source": [
    "# Seleccionar la región de interés\n",
    "\n",
    "import numpy as np\n",
    "lat_lb = np.argmin(np.abs(lat - latbound[0]))\n",
    "lat_ub = np.argmin(np.abs(lat - latbound[1]))\n",
    "lon_lb = np.argmin(np.abs(lon - lonbound[0]))\n",
    "lon_ub = np.argmin(np.abs(lon - lonbound[1]))\n",
    "\n",
    "lat_subset = lat[lat_lb:lat_ub]\n",
    "lon_subset = lon[lon_lb:lon_ub]\n",
    "sst_subset = sst[lat_lb:lat_ub, lon_lb:lon_ub]\n",
    "\n",
    "print(f\"Dimensiones de la matriz de temperatura {sst_subset.shape}\")\n"
   ]
  },
  {
   "cell_type": "code",
   "execution_count": null,
   "metadata": {},
   "outputs": [],
   "source": [
    "plt.figure(figsize=(15, 10))\n",
    "plt.pcolor(lon_subset, lat_subset, sst_subset)\n",
    "plt.colorbar()"
   ]
  },
  {
   "cell_type": "code",
   "execution_count": null,
   "metadata": {},
   "outputs": [],
   "source": [
    "from glob import glob\n",
    "import os\n",
    "\n",
    "# Path: eda_sst.ipynb\n"
   ]
  }
 ],
 "metadata": {
  "kernelspec": {
   "display_name": "Python 3",
   "language": "python",
   "name": "python3"
  },
  "language_info": {
   "codemirror_mode": {
    "name": "ipython",
    "version": 3
   },
   "file_extension": ".py",
   "mimetype": "text/x-python",
   "name": "python",
   "nbconvert_exporter": "python",
   "pygments_lexer": "ipython3",
   "version": "3.10.12"
  },
  "orig_nbformat": 4
 },
 "nbformat": 4,
 "nbformat_minor": 2
}
