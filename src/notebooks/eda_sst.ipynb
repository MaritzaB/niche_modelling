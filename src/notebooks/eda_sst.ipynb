{
 "cells": [
  {
   "cell_type": "code",
   "execution_count": null,
   "metadata": {},
   "outputs": [],
   "source": [
    "from netCDF4 import Dataset\n",
    "import matplotlib.pyplot as plt\n",
    "import numpy as np\n",
    "import pandas as pd\n",
    "import glob"
   ]
  },
  {
   "cell_type": "code",
   "execution_count": null,
   "metadata": {},
   "outputs": [],
   "source": [
    "filename = '../data/sst/2014/20140101120000-ESACCI-L4_GHRSST-SSTdepth-OSTIA-GLOB_CDR2.1-v02.0-fv01.0.nc'\n",
    "data = Dataset(filename, 'r')\n",
    "print(data.variables.keys())\n",
    "print(data.variables['analysed_sst'].units)\n",
    "print(data.variables['lat'].units)\n",
    "print(data.variables['lon'].units)\n",
    "print(data.variables['time'])"
   ]
  },
  {
   "cell_type": "code",
   "execution_count": null,
   "metadata": {},
   "outputs": [],
   "source": [
    "sst = data.variables['analysed_sst'][0][:]\n",
    "lat = data.variables['lat'][:]\n",
    "lon = data.variables['lon'][:]\n",
    "time = data.variables['time'][:]\n",
    "units_sst = data.variables['analysed_sst'].units\n",
    "units_lat = data.variables['lat'].units\n",
    "units_lon = data.variables['lon'].units\n",
    "\n",
    "#print(f\"Unidades de temperatura {units_sst}, \\n {units_lat}, {units_lon}\")\n",
    "#print(f\"Dimensiones de la matriz de temperatura {sst.shape}, \\n {lat.shape},\n",
    "#{lon.shape}\")\n",
    "\n",
    "plt.figure(figsize=(18, 10))\n",
    "plt.pcolormesh(lon, lat, sst, cmap='jet')\n",
    "plt.colorbar()\n",
    "plt.title('Sea Surface Temperature')\n",
    "plt.xlabel('Longitude')\n",
    "plt.ylabel('Latitude')\n",
    "plt.show()"
   ]
  },
  {
   "cell_type": "code",
   "execution_count": null,
   "metadata": {},
   "outputs": [],
   "source": [
    "min_lat = 25.933687\n",
    "max_lat = 51.25798\n",
    "min_lon = -158.980523\n",
    "max_lon = -114.42687\n",
    "latbound = [ min_lat, max_lat ]\n",
    "lonbound = [ min_lon, max_lon ]"
   ]
  },
  {
   "cell_type": "code",
   "execution_count": null,
   "metadata": {},
   "outputs": [],
   "source": [
    "# Seleccionar la región de interés\n",
    "\n",
    "import numpy as np\n",
    "lat_lb = np.argmin(np.abs(lat - latbound[0]))\n",
    "lat_ub = np.argmin(np.abs(lat - latbound[1]))\n",
    "lon_lb = np.argmin(np.abs(lon - lonbound[0]))\n",
    "lon_ub = np.argmin(np.abs(lon - lonbound[1]))\n",
    "\n",
    "lat_subset = lat[lat_lb:lat_ub]\n",
    "lon_subset = lon[lon_lb:lon_ub]\n",
    "sst_subset = sst[lat_lb:lat_ub, lon_lb:lon_ub]\n",
    "\n",
    "print(f\"Dimensiones de la matriz de temperatura {sst_subset.shape}\")\n"
   ]
  },
  {
   "cell_type": "code",
   "execution_count": null,
   "metadata": {},
   "outputs": [],
   "source": [
    "plt.figure(figsize=(15, 10))\n",
    "plt.pcolor(lon_subset, lat_subset, sst_subset)\n",
    "plt.colorbar()"
   ]
  },
  {
   "cell_type": "code",
   "execution_count": null,
   "metadata": {},
   "outputs": [],
   "source": [
    "from glob import glob\n",
    "import os\n",
    "\n",
    "# Path: eda_sst.ipynb\n"
   ]
  }
 ],
 "metadata": {
  "kernelspec": {
   "display_name": "Python 3",
   "language": "python",
   "name": "python3"
  },
  "language_info": {
   "codemirror_mode": {
    "name": "ipython",
    "version": 3
   },
   "file_extension": ".py",
   "mimetype": "text/x-python",
   "name": "python",
   "nbconvert_exporter": "python",
   "pygments_lexer": "ipython3",
   "version": "3.10.12"
  },
  "orig_nbformat": 4
 },
 "nbformat": 4,
 "nbformat_minor": 2
}
