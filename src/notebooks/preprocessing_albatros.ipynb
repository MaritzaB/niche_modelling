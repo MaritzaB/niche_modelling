{
 "cells": [
  {
   "cell_type": "markdown",
   "metadata": {},
   "source": [
    "# Pre-procesamiento de los datos de trayectorias de Albatros"
   ]
  },
  {
   "cell_type": "markdown",
   "metadata": {},
   "source": [
    "## Limpieza de datos"
   ]
  },
  {
   "cell_type": "code",
   "execution_count": null,
   "metadata": {},
   "outputs": [],
   "source": [
    "import pandas as pd\n",
    "import geopandas as gpd\n",
    "from shapely import wkt\n",
    "import warnings\n",
    "warnings.filterwarnings('ignore')\n",
    "\n",
    "df = pd.read_csv('../data/trajectories.csv')\n",
    "geo_df = gpd.GeoDataFrame(df, geometry=df['geom'].apply(wkt.loads))\n",
    "geo_df.head()"
   ]
  },
  {
   "cell_type": "code",
   "execution_count": null,
   "metadata": {},
   "outputs": [],
   "source": [
    "# Mapa de la zona de estudio\n",
    "import matplotlib.pyplot as plt\n",
    "\n",
    "shapefile_name = '../data/americas_shapefile.csv'\n",
    "# Load shapefile from csv\n",
    "shp_df = pd.read_csv(shapefile_name)\n",
    "\n",
    "shapefile = gpd.GeoDataFrame(shp_df, geometry=shp_df['geom'].apply(wkt.loads))\n",
    "\n",
    "base = shapefile.plot(figsize=(25, 10), alpha=0.3, edgecolor='k', color='gray')\n",
    "geo_df.plot(ax=base, alpha=0.1, marker='o', markersize=1, color='red')\n",
    "\n",
    "# Ejes\n",
    "plt.xlabel('Longitude')\n",
    "plt.ylabel('Latitude')\n",
    "\n",
    "# Título\n",
    "plt.title('Trajectorias de albatros en el Pacífico Norte')\n",
    "\n",
    "# Zoom in to see the trajectories\n",
    "\n",
    "min_lat = 23\n",
    "max_lat = 55\n",
    "min_lon = -163\n",
    "max_lon = -110\n",
    "\n",
    "plt.xlim(min_lon, max_lon)\n",
    "plt.ylim(min_lat, max_lat)"
   ]
  },
  {
   "cell_type": "code",
   "execution_count": null,
   "metadata": {},
   "outputs": [],
   "source": [
    "import seaborn as sns\n",
    "\n",
    "# Plot kernel density estimation of the trajectories using a base map\n",
    "\n",
    "#sns.kdeplot(data = geo_df, x = geo_df['longitude'], y = geo_df['latitude'], fill=True,)"
   ]
  },
  {
   "cell_type": "code",
   "execution_count": null,
   "metadata": {},
   "outputs": [],
   "source": [
    "#sns.displot(data = geo_df, x = geo_df['longitude'], y = geo_df['latitude'], kind='kde', fill=True,)"
   ]
  },
  {
   "cell_type": "code",
   "execution_count": null,
   "metadata": {},
   "outputs": [],
   "source": [
    "# Buscar duplicados en el campo geom\n",
    "\n",
    "duplicated_geometries = geo_df['geom'].value_counts(dropna=False).loc[lambda x : x>1]\n",
    "duplicated_geometries"
   ]
  },
  {
   "cell_type": "code",
   "execution_count": null,
   "metadata": {},
   "outputs": [],
   "source": [
    "duplicated_geometries.hist(bins=10)\n",
    "duplicated_geometries.value_counts() # 4982 geometrías que se repiten 2 veces\n",
    "\n",
    "# Titulo\n",
    "plt.title('Número de geometrías repetidas y su frecuencia')"
   ]
  },
  {
   "cell_type": "markdown",
   "metadata": {},
   "source": [
    "## Integración de datos"
   ]
  },
  {
   "cell_type": "markdown",
   "metadata": {},
   "source": [
    "## Reducción de datos"
   ]
  },
  {
   "cell_type": "markdown",
   "metadata": {},
   "source": [
    "## Trasformación de datos"
   ]
  }
 ],
 "metadata": {
  "kernelspec": {
   "display_name": "Python 3",
   "language": "python",
   "name": "python3"
  },
  "language_info": {
   "codemirror_mode": {
    "name": "ipython",
    "version": 3
   },
   "file_extension": ".py",
   "mimetype": "text/x-python",
   "name": "python",
   "nbconvert_exporter": "python",
   "pygments_lexer": "ipython3",
   "version": "3.10.12"
  },
  "orig_nbformat": 4
 },
 "nbformat": 4,
 "nbformat_minor": 2
}
