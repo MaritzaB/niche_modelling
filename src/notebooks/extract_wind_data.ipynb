{
 "cells": [
  {
   "cell_type": "code",
   "execution_count": 1,
   "metadata": {},
   "outputs": [],
   "source": [
    "%reset -f\n",
    "# Import functions from the module\n",
    "from netcdf_tools import get_points, get_values, select_netCDf\n",
    "import netCDF4 as nc"
   ]
  },
  {
   "cell_type": "code",
   "execution_count": 2,
   "metadata": {},
   "outputs": [],
   "source": [
    "import pandas as pd\n",
    "\n",
    "df = pd.read_csv('../data/trajectories.csv')\n",
    "\n",
    "trajectories_df = pd.DataFrame(df)\n",
    "\n",
    "trajectories_date = trajectories_df['date'].unique()\n"
   ]
  },
  {
   "cell_type": "code",
   "execution_count": 6,
   "metadata": {},
   "outputs": [
    {
     "name": "stdout",
     "output_type": "stream",
     "text": [
      "../data/wind/20140119_FNMOC_10m_Surface_Winds.nc\n"
     ]
    },
    {
     "data": {
      "text/plain": [
       "dict_keys(['time', 'altitude', 'latitude', 'longitude', 'wnd_ucmp_height_above_ground', 'wnd_vcmp_height_above_ground'])"
      ]
     },
     "execution_count": 6,
     "metadata": {},
     "output_type": "execute_result"
    }
   ],
   "source": [
    "\n",
    "end_of_string = '_FNMOC_10m_Surface_Winds.nc'\n",
    "data_path = '../data/wind/'\n",
    "date_of_trajectory = trajectories_date[0]\n",
    "nc_file = select_netCDf(data_path,end_of_string,date_of_trajectory)\n",
    "nc_file.variables.keys()"
   ]
  },
  {
   "cell_type": "code",
   "execution_count": null,
   "metadata": {},
   "outputs": [],
   "source": [
    "import glob as glob\n",
    "\n",
    "\n",
    "files = glob.glob('../data/wind/2014*.nc')\n",
    "print(len(files))\n",
    "wind_data = nc.Dataset(files[0])\n",
    "time_value = wind_data.variables['time'].actual_range[0]\n",
    "date_time = nc.num2date(time_value, wind_data.variables['time'].units).strftime('%Y-%m-%d')\n",
    "date_time"
   ]
  },
  {
   "cell_type": "code",
   "execution_count": null,
   "metadata": {},
   "outputs": [],
   "source": [
    "daily_trajectories = get_points(trajectories_df, date_time)\n",
    "daily_trajectories"
   ]
  },
  {
   "cell_type": "code",
   "execution_count": null,
   "metadata": {},
   "outputs": [],
   "source": [
    "wind_data.variables.keys()"
   ]
  },
  {
   "cell_type": "code",
   "execution_count": null,
   "metadata": {},
   "outputs": [],
   "source": [
    "import xarray as xr\n",
    "import numpy as np\n",
    "\n",
    "data = xr.open_dataset(files[0])\n",
    "data.keys()\n"
   ]
  },
  {
   "cell_type": "code",
   "execution_count": null,
   "metadata": {},
   "outputs": [],
   "source": [
    "wind_units = data['wnd_ucmp_height_above_ground'].units\n",
    "wind_date = data['time'].values\n",
    "wind_date = pd.to_datetime(wind_date.astype('datetime64[s]')).strftime('%Y-%m-%d').values[0]\n",
    "\n",
    "print(wind_units)\n",
    "print(wind_date)"
   ]
  },
  {
   "cell_type": "code",
   "execution_count": null,
   "metadata": {},
   "outputs": [],
   "source": [
    "lon = data['longitude'].values\n",
    "lat = data['latitude'].values\n",
    "u_wind = data['wnd_ucmp_height_above_ground'].values\n",
    "v_wind = data['wnd_vcmp_height_above_ground'].values\n",
    "\n",
    "# Drop the height dimension\n",
    "u_wind= np.squeeze(u_wind,axis=1)\n",
    "v_wind= np.squeeze(v_wind,axis=1)\n",
    "print(lat.shape, lon.shape, u_wind.shape, v_wind.shape)\n",
    "# Print variable names\n",
    "var_name = data['wnd_ucmp_height_above_ground'].name\n",
    "print(var_name)"
   ]
  },
  {
   "cell_type": "code",
   "execution_count": null,
   "metadata": {},
   "outputs": [],
   "source": [
    "u_wind_on_site = get_values(lon, lat, u_wind[0], var_name, daily_trajectories)\n",
    "#v_wind_on_site = get_values(lon, lat, v_wind[0], daily_trajectories)\n",
    "u_wind_on_site"
   ]
  },
  {
   "cell_type": "code",
   "execution_count": null,
   "metadata": {},
   "outputs": [],
   "source": [
    "import matplotlib.pyplot as plt\n",
    "from mpl_toolkits.basemap import Basemap\n",
    "\n",
    "u = u_wind[0,:,:]\n",
    "v = v_wind[0,:,:]\n",
    "magnitude = np.sqrt(u**2+v**2)\n",
    "\n",
    "fig, axes=plt.subplots(figsize=(10,10))\n",
    "axes.set_title('Wind Speed and Direction in the Pacific Ocean on {}'.format(date_time))\n",
    "axes.set_xlabel('Longitude')\n",
    "axes.set_ylabel('Latitude')\n",
    "axes.set_xlim([-78.5,-77.5])\n",
    "axes.set_ylim([-12.5,-11.5])\n",
    "\n",
    "\n",
    "m=Basemap(projection='mill',lat_ts=15,llcrnrlon=lon.min(), \\\n",
    "          urcrnrlon=lon.max(),llcrnrlat=lat.min(),urcrnrlat=lat.max(), \\\n",
    "          resolution='i')\n",
    "\n",
    "m.fillcontinents(color='0.6')\n",
    "m.drawcoastlines()\n",
    "x,y=m(*np.meshgrid(lon,lat))\n",
    "#===============================\n",
    "uproj,vproj,xx,yy=m.transform_vector(u,v,lon,lat,20,30,returnxy=True,masked=True)\n",
    "#===============================\n",
    "\n",
    "m.pcolormesh(x,y,magnitude,cmap=plt.cm.Reds)\n",
    "m.quiver(xx,yy,uproj,vproj)\n",
    "m.drawparallels(np.arange(-18,-2,1),labels=[1,0,0,0],linewidth=0.7,fontsize=9)\n",
    "m.drawmeridians(np.arange(-86,-70,1),labels=[0,0,0,1],linewidth=0.7,fontsize=9)\n",
    "m.colorbar()\n",
    "\n",
    "# PLot the trajectories\n",
    "x_1,y_1=m(daily_trajectories['longitude'].values,daily_trajectories['latitude'].values)\n",
    "m.scatter(x_1, y_1, marker='o',color='b',s=10)\n",
    "\n",
    "plt.show()"
   ]
  }
 ],
 "metadata": {
  "kernelspec": {
   "display_name": "Python 3",
   "language": "python",
   "name": "python3"
  },
  "language_info": {
   "codemirror_mode": {
    "name": "ipython",
    "version": 3
   },
   "file_extension": ".py",
   "mimetype": "text/x-python",
   "name": "python",
   "nbconvert_exporter": "python",
   "pygments_lexer": "ipython3",
   "version": "3.10.12"
  }
 },
 "nbformat": 4,
 "nbformat_minor": 2
}
