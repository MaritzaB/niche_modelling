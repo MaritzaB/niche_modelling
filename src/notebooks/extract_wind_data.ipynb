{
 "cells": [
  {
   "cell_type": "code",
   "execution_count": 10,
   "metadata": {},
   "outputs": [],
   "source": [
    "%reset -f\n",
    "# Import functions from the module\n",
    "from netcdf_tools import get_points, get_values, select_netCDf\n",
    "import netCDF4 as nc"
   ]
  },
  {
   "cell_type": "code",
   "execution_count": 11,
   "metadata": {},
   "outputs": [],
   "source": [
    "import pandas as pd\n",
    "\n",
    "df = pd.read_csv('../data/trajectories.csv')\n",
    "\n",
    "trajectories_df = pd.DataFrame(df)\n",
    "\n",
    "trajectories_date = trajectories_df['date'].unique()\n"
   ]
  },
  {
   "cell_type": "code",
   "execution_count": 12,
   "metadata": {},
   "outputs": [],
   "source": [
    "\n",
    "end_of_string = '_FNMOC_10m_Surface_Winds.nc'\n",
    "data_path = '../data/wind/'\n",
    "u_wind_name = 'wnd_ucmp_height_above_ground'\n",
    "date_of_trajectory = trajectories_date[0]\n",
    "lon, lat, u_wind = select_netCDf(data_path,end_of_string,date_of_trajectory,u_wind_name)"
   ]
  },
  {
   "cell_type": "code",
   "execution_count": 13,
   "metadata": {},
   "outputs": [
    {
     "name": "stdout",
     "output_type": "stream",
     "text": [
      "(107,)\n",
      "(65,)\n"
     ]
    }
   ],
   "source": [
    "u_wind = u_wind[0,0,:,:]\n",
    "print(lon.shape)\n",
    "print(lat.shape)"
   ]
  },
  {
   "cell_type": "code",
   "execution_count": 14,
   "metadata": {},
   "outputs": [
    {
     "data": {
      "text/html": [
       "<div>\n",
       "<style scoped>\n",
       "    .dataframe tbody tr th:only-of-type {\n",
       "        vertical-align: middle;\n",
       "    }\n",
       "\n",
       "    .dataframe tbody tr th {\n",
       "        vertical-align: top;\n",
       "    }\n",
       "\n",
       "    .dataframe thead th {\n",
       "        text-align: right;\n",
       "    }\n",
       "</style>\n",
       "<table border=\"1\" class=\"dataframe\">\n",
       "  <thead>\n",
       "    <tr style=\"text-align: right;\">\n",
       "      <th></th>\n",
       "      <th>id</th>\n",
       "      <th>geom</th>\n",
       "      <th>date</th>\n",
       "      <th>latitude</th>\n",
       "      <th>longitude</th>\n",
       "      <th>name</th>\n",
       "      <th>season</th>\n",
       "      <th>spheroid_dist_to_colony</th>\n",
       "      <th>sst</th>\n",
       "    </tr>\n",
       "  </thead>\n",
       "  <tbody>\n",
       "    <tr>\n",
       "      <th>0</th>\n",
       "      <td>1</td>\n",
       "      <td>POINT(-118.327013 29.110365)</td>\n",
       "      <td>2014-01-19</td>\n",
       "      <td>29.110365</td>\n",
       "      <td>-118.32701</td>\n",
       "      <td>LAAL01</td>\n",
       "      <td>incubacion</td>\n",
       "      <td>0.0</td>\n",
       "      <td>17.581</td>\n",
       "    </tr>\n",
       "    <tr>\n",
       "      <th>1</th>\n",
       "      <td>2</td>\n",
       "      <td>POINT(-118.327008 29.110315)</td>\n",
       "      <td>2014-01-19</td>\n",
       "      <td>29.110315</td>\n",
       "      <td>-118.32701</td>\n",
       "      <td>LAAL01</td>\n",
       "      <td>incubacion</td>\n",
       "      <td>0.0</td>\n",
       "      <td>17.581</td>\n",
       "    </tr>\n",
       "  </tbody>\n",
       "</table>\n",
       "</div>"
      ],
      "text/plain": [
       "   id                          geom        date   latitude  longitude    name  \\\n",
       "0   1  POINT(-118.327013 29.110365)  2014-01-19  29.110365 -118.32701  LAAL01   \n",
       "1   2  POINT(-118.327008 29.110315)  2014-01-19  29.110315 -118.32701  LAAL01   \n",
       "\n",
       "       season  spheroid_dist_to_colony     sst  \n",
       "0  incubacion                      0.0  17.581  \n",
       "1  incubacion                      0.0  17.581  "
      ]
     },
     "execution_count": 14,
     "metadata": {},
     "output_type": "execute_result"
    }
   ],
   "source": [
    "daily_trajectories = get_points(trajectories_df, date_of_trajectory)\n",
    "daily_trajectories.head(2)"
   ]
  },
  {
   "cell_type": "code",
   "execution_count": 15,
   "metadata": {},
   "outputs": [
    {
     "name": "stdout",
     "output_type": "stream",
     "text": [
      "   id                          geom        date   latitude  longitude    name  \\\n",
      "0   1  POINT(-118.327013 29.110365)  2014-01-19  29.110365 -118.32701  LAAL01   \n",
      "1   2  POINT(-118.327008 29.110315)  2014-01-19  29.110315 -118.32701  LAAL01   \n",
      "\n",
      "       season  spheroid_dist_to_colony     sst  wnd_ucmp_height_above_ground  \n",
      "0  incubacion                      0.0  17.581                           2.0  \n",
      "1  incubacion                      0.0  17.581                           2.0  \n"
     ]
    }
   ],
   "source": [
    "u_wind_on_site = get_values(lon, lat, u_wind, u_wind_name, daily_trajectories)\n",
    "print(u_wind_on_site.head(2))\n"
   ]
  },
  {
   "cell_type": "code",
   "execution_count": 16,
   "metadata": {},
   "outputs": [
    {
     "data": {
      "text/plain": [
       "\"\\nimport matplotlib.pyplot as plt\\nfrom mpl_toolkits.basemap import Basemap\\nimport numpy as np\\n\\nu = u_wind[:,:]\\nv = v_wind[:,:]\\nmagnitude = np.sqrt(u**2+v**2)\\n\\nfig, axes=plt.subplots(figsize=(10,10))\\naxes.set_title('Wind Speed and Direction in the Pacific Ocean on {}'.format(date_of_trajectory))\\naxes.set_xlabel('Longitude')\\naxes.set_ylabel('Latitude')\\naxes.set_xlim([-78.5,-77.5])\\naxes.set_ylim([-12.5,-11.5])\\n\\n\\nm=Basemap(projection='mill',lat_ts=15,llcrnrlon=lon.min(),           urcrnrlon=lon.max(),llcrnrlat=lat.min(),urcrnrlat=lat.max(),           resolution='i')\\n\\nm.fillcontinents(color='0.6')\\nm.drawcoastlines()\\nx,y=m(*np.meshgrid(lon,lat))\\n#===============================\\nuproj,vproj,xx,yy=m.transform_vector(u,v,lon,lat,20,30,returnxy=True,masked=True)\\n#===============================\\n\\nm.pcolormesh(x,y,magnitude,cmap=plt.cm.Reds)\\nm.quiver(xx,yy,uproj,vproj)\\nm.drawparallels(np.arange(-18,-2,1),labels=[1,0,0,0],linewidth=0.7,fontsize=9)\\nm.drawmeridians(np.arange(-86,-70,1),labels=[0,0,0,1],linewidth=0.7,fontsize=9)\\nm.colorbar()\\n\\n# PLot the trajectories\\nx_1,y_1=m(daily_trajectories['longitude'].values,daily_trajectories['latitude'].values)\\nm.scatter(x_1, y_1, marker='o',color='b',s=10)\\n\\nplt.show()\\n\""
      ]
     },
     "execution_count": 16,
     "metadata": {},
     "output_type": "execute_result"
    }
   ],
   "source": [
    "# Temporary not working\n",
    "\n",
    "'''\n",
    "import matplotlib.pyplot as plt\n",
    "from mpl_toolkits.basemap import Basemap\n",
    "import numpy as np\n",
    "\n",
    "u = u_wind[:,:]\n",
    "v = v_wind[:,:]\n",
    "magnitude = np.sqrt(u**2+v**2)\n",
    "\n",
    "fig, axes=plt.subplots(figsize=(10,10))\n",
    "axes.set_title('Wind Speed and Direction in the Pacific Ocean on {}'.format(date_of_trajectory))\n",
    "axes.set_xlabel('Longitude')\n",
    "axes.set_ylabel('Latitude')\n",
    "axes.set_xlim([-78.5,-77.5])\n",
    "axes.set_ylim([-12.5,-11.5])\n",
    "\n",
    "\n",
    "m=Basemap(projection='mill',lat_ts=15,llcrnrlon=lon.min(), \\\n",
    "          urcrnrlon=lon.max(),llcrnrlat=lat.min(),urcrnrlat=lat.max(), \\\n",
    "          resolution='i')\n",
    "\n",
    "m.fillcontinents(color='0.6')\n",
    "m.drawcoastlines()\n",
    "x,y=m(*np.meshgrid(lon,lat))\n",
    "#===============================\n",
    "uproj,vproj,xx,yy=m.transform_vector(u,v,lon,lat,20,30,returnxy=True,masked=True)\n",
    "#===============================\n",
    "\n",
    "m.pcolormesh(x,y,magnitude,cmap=plt.cm.Reds)\n",
    "m.quiver(xx,yy,uproj,vproj)\n",
    "m.drawparallels(np.arange(-18,-2,1),labels=[1,0,0,0],linewidth=0.7,fontsize=9)\n",
    "m.drawmeridians(np.arange(-86,-70,1),labels=[0,0,0,1],linewidth=0.7,fontsize=9)\n",
    "m.colorbar()\n",
    "\n",
    "# PLot the trajectories\n",
    "x_1,y_1=m(daily_trajectories['longitude'].values,daily_trajectories['latitude'].values)\n",
    "m.scatter(x_1, y_1, marker='o',color='b',s=10)\n",
    "\n",
    "plt.show()\n",
    "'''"
   ]
  }
 ],
 "metadata": {
  "kernelspec": {
   "display_name": "Python 3",
   "language": "python",
   "name": "python3"
  },
  "language_info": {
   "codemirror_mode": {
    "name": "ipython",
    "version": 3
   },
   "file_extension": ".py",
   "mimetype": "text/x-python",
   "name": "python",
   "nbconvert_exporter": "python",
   "pygments_lexer": "ipython3",
   "version": "3.10.12"
  }
 },
 "nbformat": 4,
 "nbformat_minor": 2
}
