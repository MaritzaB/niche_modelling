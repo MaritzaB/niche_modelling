{
 "cells": [
  {
   "cell_type": "code",
   "execution_count": 1,
   "metadata": {},
   "outputs": [],
   "source": [
    "%reset -f\n",
    "# Import functions from the module\n",
    "from netcdf_tools import get_points, get_values, select_netCDf\n",
    "import netCDF4 as nc"
   ]
  },
  {
   "cell_type": "code",
   "execution_count": 2,
   "metadata": {},
   "outputs": [],
   "source": [
    "import pandas as pd\n",
    "\n",
    "df = pd.read_csv('../data/trajectories.csv')\n",
    "\n",
    "trajectories_df = pd.DataFrame(df)\n",
    "\n",
    "trajectories_date = trajectories_df['date'].unique()\n"
   ]
  },
  {
   "cell_type": "code",
   "execution_count": 3,
   "metadata": {},
   "outputs": [
    {
     "ename": "TypeError",
     "evalue": "select_netCDf() takes 3 positional arguments but 4 were given",
     "output_type": "error",
     "traceback": [
      "\u001b[0;31m---------------------------------------------------------------------------\u001b[0m",
      "\u001b[0;31mTypeError\u001b[0m                                 Traceback (most recent call last)",
      "Cell \u001b[0;32mIn[3], line 5\u001b[0m\n\u001b[1;32m      3\u001b[0m u_wind_name \u001b[38;5;241m=\u001b[39m \u001b[38;5;124m'\u001b[39m\u001b[38;5;124mwnd_ucmp_height_above_ground\u001b[39m\u001b[38;5;124m'\u001b[39m\n\u001b[1;32m      4\u001b[0m date_of_trajectory \u001b[38;5;241m=\u001b[39m trajectories_date[\u001b[38;5;241m0\u001b[39m]\n\u001b[0;32m----> 5\u001b[0m lon, lat, u_wind \u001b[38;5;241m=\u001b[39m \u001b[43mselect_netCDf\u001b[49m\u001b[43m(\u001b[49m\u001b[43mdata_path\u001b[49m\u001b[43m,\u001b[49m\u001b[43mend_of_string\u001b[49m\u001b[43m,\u001b[49m\u001b[43mdate_of_trajectory\u001b[49m\u001b[43m,\u001b[49m\u001b[43mu_wind_name\u001b[49m\u001b[43m)\u001b[49m\n",
      "\u001b[0;31mTypeError\u001b[0m: select_netCDf() takes 3 positional arguments but 4 were given"
     ]
    }
   ],
   "source": [
    "\n",
    "end_of_string = '_FNMOC_10m_Surface_Winds.nc'\n",
    "data_path = '../data/wind/'\n",
    "u_wind_name = 'wnd_ucmp_height_above_ground'\n",
    "date_of_trajectory = trajectories_date[0]\n",
    "lon, lat, u_wind = select_netCDf(data_path,end_of_string,date_of_trajectory,u_wind_name)"
   ]
  },
  {
   "cell_type": "code",
   "execution_count": null,
   "metadata": {},
   "outputs": [],
   "source": [
    "u_wind = u_wind[0,0,:,:]\n",
    "print(lon.shape)\n",
    "print(lat.shape)"
   ]
  },
  {
   "cell_type": "code",
   "execution_count": null,
   "metadata": {},
   "outputs": [],
   "source": [
    "daily_trajectories = get_points(trajectories_df, date_of_trajectory)\n",
    "daily_trajectories.head(2)"
   ]
  },
  {
   "cell_type": "code",
   "execution_count": null,
   "metadata": {},
   "outputs": [],
   "source": [
    "u_wind_on_site = get_values(lon, lat, u_wind, u_wind_name, daily_trajectories)\n",
    "print(u_wind_on_site.head(2))\n"
   ]
  },
  {
   "cell_type": "code",
   "execution_count": null,
   "metadata": {},
   "outputs": [],
   "source": [
    "# Temporary not working\n",
    "\n",
    "'''\n",
    "import matplotlib.pyplot as plt\n",
    "from mpl_toolkits.basemap import Basemap\n",
    "import numpy as np\n",
    "\n",
    "u = u_wind[:,:]\n",
    "v = v_wind[:,:]\n",
    "magnitude = np.sqrt(u**2+v**2)\n",
    "\n",
    "fig, axes=plt.subplots(figsize=(10,10))\n",
    "axes.set_title('Wind Speed and Direction in the Pacific Ocean on {}'.format(date_of_trajectory))\n",
    "axes.set_xlabel('Longitude')\n",
    "axes.set_ylabel('Latitude')\n",
    "axes.set_xlim([-78.5,-77.5])\n",
    "axes.set_ylim([-12.5,-11.5])\n",
    "\n",
    "\n",
    "m=Basemap(projection='mill',lat_ts=15,llcrnrlon=lon.min(), \\\n",
    "          urcrnrlon=lon.max(),llcrnrlat=lat.min(),urcrnrlat=lat.max(), \\\n",
    "          resolution='i')\n",
    "\n",
    "m.fillcontinents(color='0.6')\n",
    "m.drawcoastlines()\n",
    "x,y=m(*np.meshgrid(lon,lat))\n",
    "#===============================\n",
    "uproj,vproj,xx,yy=m.transform_vector(u,v,lon,lat,20,30,returnxy=True,masked=True)\n",
    "#===============================\n",
    "\n",
    "m.pcolormesh(x,y,magnitude,cmap=plt.cm.Reds)\n",
    "m.quiver(xx,yy,uproj,vproj)\n",
    "m.drawparallels(np.arange(-18,-2,1),labels=[1,0,0,0],linewidth=0.7,fontsize=9)\n",
    "m.drawmeridians(np.arange(-86,-70,1),labels=[0,0,0,1],linewidth=0.7,fontsize=9)\n",
    "m.colorbar()\n",
    "\n",
    "# PLot the trajectories\n",
    "x_1,y_1=m(daily_trajectories['longitude'].values,daily_trajectories['latitude'].values)\n",
    "m.scatter(x_1, y_1, marker='o',color='b',s=10)\n",
    "\n",
    "plt.show()\n",
    "'''"
   ]
  }
 ],
 "metadata": {
  "kernelspec": {
   "display_name": "Python 3",
   "language": "python",
   "name": "python3"
  },
  "language_info": {
   "codemirror_mode": {
    "name": "ipython",
    "version": 3
   },
   "file_extension": ".py",
   "mimetype": "text/x-python",
   "name": "python",
   "nbconvert_exporter": "python",
   "pygments_lexer": "ipython3",
   "version": "3.10.12"
  }
 },
 "nbformat": 4,
 "nbformat_minor": 2
}
